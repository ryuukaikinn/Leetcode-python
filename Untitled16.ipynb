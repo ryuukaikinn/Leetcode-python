{
  "nbformat": 4,
  "nbformat_minor": 0,
  "metadata": {
    "colab": {
      "provenance": [],
      "authorship_tag": "ABX9TyPhBTY46ZRWxD+um1KllkI1",
      "include_colab_link": true
    },
    "kernelspec": {
      "name": "python3",
      "display_name": "Python 3"
    },
    "language_info": {
      "name": "python"
    }
  },
  "cells": [
    {
      "cell_type": "markdown",
      "metadata": {
        "id": "view-in-github",
        "colab_type": "text"
      },
      "source": [
        "<a href=\"https://colab.research.google.com/github/ryuukaikinn/Leetcode-python/blob/main/Untitled16.ipynb\" target=\"_parent\"><img src=\"https://colab.research.google.com/assets/colab-badge.svg\" alt=\"Open In Colab\"/></a>"
      ]
    },
    {
      "cell_type": "code",
      "execution_count": 1,
      "metadata": {
        "colab": {
          "base_uri": "https://localhost:8080/",
          "height": 109
        },
        "id": "zCCydQ0kvu7A",
        "outputId": "05cfe9db-dbbe-4538-f85b-1ebf01738db7"
      },
      "outputs": [
        {
          "output_type": "error",
          "ename": "SyntaxError",
          "evalue": "invalid syntax (<ipython-input-1-7213b8a4f2ac>, line 1)",
          "traceback": [
            "\u001b[0;36m  File \u001b[0;32m\"<ipython-input-1-7213b8a4f2ac>\"\u001b[0;36m, line \u001b[0;32m1\u001b[0m\n\u001b[0;31m    package main\u001b[0m\n\u001b[0m            ^\u001b[0m\n\u001b[0;31mSyntaxError\u001b[0m\u001b[0;31m:\u001b[0m invalid syntax\n"
          ]
        }
      ],
      "source": [
        "package main\n",
        "\n",
        "import \"fmt\"\n",
        "\n",
        "func twoSum(nums []int, target int) []int {\n",
        "    numMap := make(map[int]int)\n",
        "    for i, num := range nums {\n",
        "        complement := target - num\n",
        "        if index, found := numMap[complement]; found {\n",
        "            return []int{index, i}\n",
        "        }\n",
        "        numMap[num] = i\n",
        "    }\n",
        "    return nil\n",
        "}\n",
        "\n",
        "func main() {\n",
        "    nums := []int{2, 7, 11, 15}\n",
        "    target := 9\n",
        "    result := twoSum(nums, target)\n",
        "    fmt.Println(result)\n",
        "}"
      ]
    }
  ]
}