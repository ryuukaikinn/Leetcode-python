{
  "nbformat": 4,
  "nbformat_minor": 0,
  "metadata": {
    "colab": {
      "provenance": []
    },
    "kernelspec": {
      "name": "python3",
      "display_name": "Python 3"
    },
    "language_info": {
      "name": "python"
    }
  },
  "cells": [
    {
      "cell_type": "code",
      "execution_count": 8,
      "metadata": {
        "colab": {
          "base_uri": "https://localhost:8080/"
        },
        "id": "GGEhB4VCvRU1",
        "outputId": "97e659a6-f5d1-41d6-bab2-77a5a19d3fab"
      },
      "outputs": [
        {
          "output_type": "stream",
          "name": "stdout",
          "text": [
            "[0, 1]\n"
          ]
        }
      ],
      "source": [
        " nums = [2,7,11,15]\n",
        " target = 9\n",
        " for i in range(len(nums)):\n",
        "  for j in range(i+1,len(nums)):\n",
        "   if i == j :\n",
        "    continue\n",
        "   if nums[i] + nums[j] == target :\n",
        "    print([i,j])"
      ]
    }
  ]
}